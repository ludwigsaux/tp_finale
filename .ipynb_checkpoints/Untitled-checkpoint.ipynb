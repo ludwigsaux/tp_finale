{
 "cells": [
  {
   "cell_type": "code",
   "execution_count": 1,
   "id": "d5e408a0-22c7-4ebf-a118-b9657dde013d",
   "metadata": {
    "tags": []
   },
   "outputs": [],
   "source": [
    "import pandas as pd"
   ]
  },
  {
   "cell_type": "code",
   "execution_count": 2,
   "id": "5427e5f1-a3fa-446e-9f98-7d0687295fe7",
   "metadata": {
    "tags": []
   },
   "outputs": [
    {
     "name": "stderr",
     "output_type": "stream",
     "text": [
      "/var/folders/6r/gwp557492hbd4kyrbr9qggw80000gn/T/ipykernel_81773/3333619047.py:1: DtypeWarning: Columns (8,9,11) have mixed types. Specify dtype option on import or set low_memory=False.\n",
      "  df = pd.read_csv('StockEtablissementHistorique_utf8.csv')\n"
     ]
    }
   ],
   "source": [
    "df = pd.read_csv('StockEtablissementHistorique_utf8.csv')"
   ]
  },
  {
   "cell_type": "code",
   "execution_count": 3,
   "id": "8650872a-2903-43ae-9649-c19c253c50b8",
   "metadata": {
    "tags": []
   },
   "outputs": [
    {
     "data": {
      "text/plain": [
       "Index(['siren', 'nic', 'siret', 'dateFin', 'dateDebut',\n",
       "       'etatAdministratifEtablissement',\n",
       "       'changementEtatAdministratifEtablissement', 'enseigne1Etablissement',\n",
       "       'enseigne2Etablissement', 'enseigne3Etablissement',\n",
       "       'changementEnseigneEtablissement', 'denominationUsuelleEtablissement',\n",
       "       'changementDenominationUsuelleEtablissement',\n",
       "       'activitePrincipaleEtablissement',\n",
       "       'nomenclatureActivitePrincipaleEtablissement',\n",
       "       'changementActivitePrincipaleEtablissement',\n",
       "       'caractereEmployeurEtablissement',\n",
       "       'changementCaractereEmployeurEtablissement'],\n",
       "      dtype='object')"
      ]
     },
     "execution_count": 3,
     "metadata": {},
     "output_type": "execute_result"
    }
   ],
   "source": [
    "df.columns"
   ]
  },
  {
   "cell_type": "code",
   "execution_count": 4,
   "id": "f53fe94d-b5d9-454c-869c-4f9a4b7bdae1",
   "metadata": {
    "tags": []
   },
   "outputs": [
    {
     "data": {
      "text/html": [
       "<div>\n",
       "<style scoped>\n",
       "    .dataframe tbody tr th:only-of-type {\n",
       "        vertical-align: middle;\n",
       "    }\n",
       "\n",
       "    .dataframe tbody tr th {\n",
       "        vertical-align: top;\n",
       "    }\n",
       "\n",
       "    .dataframe thead th {\n",
       "        text-align: right;\n",
       "    }\n",
       "</style>\n",
       "<table border=\"1\" class=\"dataframe\">\n",
       "  <thead>\n",
       "    <tr style=\"text-align: right;\">\n",
       "      <th></th>\n",
       "      <th>siren</th>\n",
       "      <th>nic</th>\n",
       "      <th>siret</th>\n",
       "      <th>dateFin</th>\n",
       "      <th>dateDebut</th>\n",
       "      <th>etatAdministratifEtablissement</th>\n",
       "      <th>changementEtatAdministratifEtablissement</th>\n",
       "      <th>enseigne1Etablissement</th>\n",
       "      <th>enseigne2Etablissement</th>\n",
       "      <th>enseigne3Etablissement</th>\n",
       "      <th>changementEnseigneEtablissement</th>\n",
       "      <th>denominationUsuelleEtablissement</th>\n",
       "      <th>changementDenominationUsuelleEtablissement</th>\n",
       "      <th>activitePrincipaleEtablissement</th>\n",
       "      <th>nomenclatureActivitePrincipaleEtablissement</th>\n",
       "      <th>changementActivitePrincipaleEtablissement</th>\n",
       "      <th>caractereEmployeurEtablissement</th>\n",
       "      <th>changementCaractereEmployeurEtablissement</th>\n",
       "    </tr>\n",
       "  </thead>\n",
       "  <tbody>\n",
       "    <tr>\n",
       "      <th>0</th>\n",
       "      <td>325175</td>\n",
       "      <td>16</td>\n",
       "      <td>32517500016</td>\n",
       "      <td>2007-12-31</td>\n",
       "      <td>2000-09-26</td>\n",
       "      <td>A</td>\n",
       "      <td>False</td>\n",
       "      <td>NaN</td>\n",
       "      <td>NaN</td>\n",
       "      <td>NaN</td>\n",
       "      <td>False</td>\n",
       "      <td>NaN</td>\n",
       "      <td>False</td>\n",
       "      <td>NaN</td>\n",
       "      <td>NaN</td>\n",
       "      <td>False</td>\n",
       "      <td>N</td>\n",
       "      <td>False</td>\n",
       "    </tr>\n",
       "    <tr>\n",
       "      <th>1</th>\n",
       "      <td>325175</td>\n",
       "      <td>16</td>\n",
       "      <td>32517500016</td>\n",
       "      <td>NaN</td>\n",
       "      <td>2009-05-27</td>\n",
       "      <td>F</td>\n",
       "      <td>True</td>\n",
       "      <td>NaN</td>\n",
       "      <td>NaN</td>\n",
       "      <td>NaN</td>\n",
       "      <td>False</td>\n",
       "      <td>NaN</td>\n",
       "      <td>False</td>\n",
       "      <td>32.12Z</td>\n",
       "      <td>NAFRev2</td>\n",
       "      <td>False</td>\n",
       "      <td>N</td>\n",
       "      <td>False</td>\n",
       "    </tr>\n",
       "    <tr>\n",
       "      <th>2</th>\n",
       "      <td>325175</td>\n",
       "      <td>16</td>\n",
       "      <td>32517500016</td>\n",
       "      <td>2009-05-26</td>\n",
       "      <td>2008-01-01</td>\n",
       "      <td>A</td>\n",
       "      <td>False</td>\n",
       "      <td>NaN</td>\n",
       "      <td>NaN</td>\n",
       "      <td>NaN</td>\n",
       "      <td>False</td>\n",
       "      <td>NaN</td>\n",
       "      <td>False</td>\n",
       "      <td>32.12Z</td>\n",
       "      <td>NAFRev2</td>\n",
       "      <td>True</td>\n",
       "      <td>N</td>\n",
       "      <td>False</td>\n",
       "    </tr>\n",
       "    <tr>\n",
       "      <th>3</th>\n",
       "      <td>325175</td>\n",
       "      <td>24</td>\n",
       "      <td>32517500024</td>\n",
       "      <td>NaN</td>\n",
       "      <td>2011-10-21</td>\n",
       "      <td>F</td>\n",
       "      <td>True</td>\n",
       "      <td>TAHITI PERLES CREATIONS</td>\n",
       "      <td>NaN</td>\n",
       "      <td>NaN</td>\n",
       "      <td>False</td>\n",
       "      <td>NaN</td>\n",
       "      <td>False</td>\n",
       "      <td>47.89Z</td>\n",
       "      <td>NAFRev2</td>\n",
       "      <td>False</td>\n",
       "      <td>N</td>\n",
       "      <td>False</td>\n",
       "    </tr>\n",
       "    <tr>\n",
       "      <th>4</th>\n",
       "      <td>325175</td>\n",
       "      <td>24</td>\n",
       "      <td>32517500024</td>\n",
       "      <td>2011-10-20</td>\n",
       "      <td>2008-05-20</td>\n",
       "      <td>A</td>\n",
       "      <td>False</td>\n",
       "      <td>TAHITI PERLES CREATIONS</td>\n",
       "      <td>NaN</td>\n",
       "      <td>NaN</td>\n",
       "      <td>False</td>\n",
       "      <td>NaN</td>\n",
       "      <td>False</td>\n",
       "      <td>47.89Z</td>\n",
       "      <td>NAFRev2</td>\n",
       "      <td>False</td>\n",
       "      <td>N</td>\n",
       "      <td>False</td>\n",
       "    </tr>\n",
       "  </tbody>\n",
       "</table>\n",
       "</div>"
      ],
      "text/plain": [
       "    siren  nic        siret     dateFin   dateDebut  \\\n",
       "0  325175   16  32517500016  2007-12-31  2000-09-26   \n",
       "1  325175   16  32517500016         NaN  2009-05-27   \n",
       "2  325175   16  32517500016  2009-05-26  2008-01-01   \n",
       "3  325175   24  32517500024         NaN  2011-10-21   \n",
       "4  325175   24  32517500024  2011-10-20  2008-05-20   \n",
       "\n",
       "  etatAdministratifEtablissement  changementEtatAdministratifEtablissement  \\\n",
       "0                              A                                     False   \n",
       "1                              F                                      True   \n",
       "2                              A                                     False   \n",
       "3                              F                                      True   \n",
       "4                              A                                     False   \n",
       "\n",
       "    enseigne1Etablissement enseigne2Etablissement enseigne3Etablissement  \\\n",
       "0                      NaN                    NaN                    NaN   \n",
       "1                      NaN                    NaN                    NaN   \n",
       "2                      NaN                    NaN                    NaN   \n",
       "3  TAHITI PERLES CREATIONS                    NaN                    NaN   \n",
       "4  TAHITI PERLES CREATIONS                    NaN                    NaN   \n",
       "\n",
       "   changementEnseigneEtablissement denominationUsuelleEtablissement  \\\n",
       "0                            False                              NaN   \n",
       "1                            False                              NaN   \n",
       "2                            False                              NaN   \n",
       "3                            False                              NaN   \n",
       "4                            False                              NaN   \n",
       "\n",
       "   changementDenominationUsuelleEtablissement activitePrincipaleEtablissement  \\\n",
       "0                                       False                             NaN   \n",
       "1                                       False                          32.12Z   \n",
       "2                                       False                          32.12Z   \n",
       "3                                       False                          47.89Z   \n",
       "4                                       False                          47.89Z   \n",
       "\n",
       "  nomenclatureActivitePrincipaleEtablissement  \\\n",
       "0                                         NaN   \n",
       "1                                     NAFRev2   \n",
       "2                                     NAFRev2   \n",
       "3                                     NAFRev2   \n",
       "4                                     NAFRev2   \n",
       "\n",
       "   changementActivitePrincipaleEtablissement caractereEmployeurEtablissement  \\\n",
       "0                                      False                               N   \n",
       "1                                      False                               N   \n",
       "2                                       True                               N   \n",
       "3                                      False                               N   \n",
       "4                                      False                               N   \n",
       "\n",
       "   changementCaractereEmployeurEtablissement  \n",
       "0                                      False  \n",
       "1                                      False  \n",
       "2                                      False  \n",
       "3                                      False  \n",
       "4                                      False  "
      ]
     },
     "execution_count": 4,
     "metadata": {},
     "output_type": "execute_result"
    }
   ],
   "source": [
    "df.head()"
   ]
  },
  {
   "cell_type": "code",
   "execution_count": 7,
   "id": "1aa32571-9178-4ec3-8e7a-2ec96660a6cb",
   "metadata": {
    "tags": []
   },
   "outputs": [
    {
     "name": "stderr",
     "output_type": "stream",
     "text": [
      "/var/folders/6r/gwp557492hbd4kyrbr9qggw80000gn/T/ipykernel_81773/3768869305.py:6: DtypeWarning: Columns (25,27,29) have mixed types. Specify dtype option on import or set low_memory=False.\n",
      "  df_energie = pd.read_csv('conso-elec-gaz-annuelle-par-secteur-dactivite-agregee-commune.csv', sep=';')\n",
      "/Users/ludwig/anaconda3/lib/python3.11/site-packages/numpy/core/fromnumeric.py:57: FutureWarning: 'DataFrame.swapaxes' is deprecated and will be removed in a future version. Please use 'DataFrame.transpose' instead.\n",
      "  return bound(*args, **kwds)\n"
     ]
    }
   ],
   "source": [
    "import pandas as pd\n",
    "import numpy as np\n",
    "import os\n",
    "\n",
    "# Chargez votre fichier CSV (ou utilisez votre DataFrame existant)\n",
    "df_energie = pd.read_csv('conso-elec-gaz-annuelle-par-secteur-dactivite-agregee-commune.csv', sep=';')\n",
    "\n",
    "# Divisez le DataFrame en 10 parties et stockez-les dans des fichiers CSV temporaires\n",
    "temp_csv_dir = 'temp_csv_parts'\n",
    "os.makedirs(temp_csv_dir, exist_ok=True)\n",
    "\n",
    "df_parts = np.array_split(df_energie, 10)\n",
    "for i, df_part in enumerate(df_parts):\n",
    "    df_part.to_csv(os.path.join(temp_csv_dir, f'part_{i}.csv'), index=False)\n"
   ]
  },
  {
   "cell_type": "code",
   "execution_count": null,
   "id": "377d4499-067a-4332-9938-d232b83ff50f",
   "metadata": {},
   "outputs": [],
   "source": []
  }
 ],
 "metadata": {
  "kernelspec": {
   "display_name": "Python 3 (ipykernel)",
   "language": "python",
   "name": "python3"
  },
  "language_info": {
   "codemirror_mode": {
    "name": "ipython",
    "version": 3
   },
   "file_extension": ".py",
   "mimetype": "text/x-python",
   "name": "python",
   "nbconvert_exporter": "python",
   "pygments_lexer": "ipython3",
   "version": "3.11.5"
  }
 },
 "nbformat": 4,
 "nbformat_minor": 5
}
